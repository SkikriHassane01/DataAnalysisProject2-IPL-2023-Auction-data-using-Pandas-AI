{
 "cells": [
  {
   "cell_type": "markdown",
   "metadata": {},
   "source": [
    "<div style=\"background-color:#f0f0f0; padding:20px; border-radius:10px; margin-bottom:20px;\">\n",
    "    <h1 style=\"color:#2E86C1; text-align:center; font-size:36px; font-weight:bold;\">Exploratory Data Analysis of IPL Dataset</h1>\n",
    "    <p style=\"font-size:16px;\"></p>\n"
   ]
  },
  {
   "cell_type": "markdown",
   "metadata": {},
   "source": [
    "The Metaata of the IPL Tournament from 2007 to 2023\n",
    "\n",
    "1. **id**: Unique identifier for each match.\n",
    "2. **season**: The year in which the IPL season took place.\n",
    "3. **city**: The city where the match was played.\n",
    "4. **date**: The date on which the match was played.\n",
    "5. **match_type**: Type of match, usually \"League\", \"Qualifier\", \"Eliminator\", \"Final\", etc.\n",
    "6. **player_of_match**: The player who was awarded the 'Player of the Match'.\n",
    "7. **venue**: The stadium where the match was played.\n",
    "8. **team1**: The name of the first team.\n",
    "9. **team2**: The name of the second team.\n",
    "10. **toss_winner**: The team that won the toss.\n",
    "11. **toss_decision**: The decision made by the toss-winning team, either \"Bat\" or \"Field\".\n",
    "12. **winner**: The team that won the match.\n",
    "13. **result**: The result of the match, usually \"Win\" or \"No Result\".\n",
    "14. **result_margin**: The margin of the result, such as runs or wickets.\n",
    "15. **target_runs**: The target runs set for the team batting second (only applicable in the second innings).\n",
    "16. **target_overs**: The target overs set for the team batting second (only applicable in the second innings, typically in rain-affected matches).\n",
    "17. **super_over**: Indicates whether the match went to a Super Over. Values are typically 0 (No) or 1 (Yes).\n",
    "18. **umpire1**: The name of the first umpire.\n",
    "19. **umpire2**: The name of the second umpire."
   ]
  },
  {
   "cell_type": "markdown",
   "metadata": {},
   "source": [
    "<div style=\"background-color:#f0f0f0; padding:20px; border-radius:10px; margin-bottom:20px;\">\n",
    "    <h1 style=\"color:#2E86C1; text-align:center; font-size:36px; font-weight:bold;\">Import Libraries</h1>\n",
    "    <p style=\"font-size:16px;\"></p>"
   ]
  },
  {
   "cell_type": "code",
   "execution_count": null,
   "metadata": {
    "execution": {
     "iopub.execute_input": "2024-06-02T12:59:15.434783Z",
     "iopub.status.busy": "2024-06-02T12:59:15.434395Z",
     "iopub.status.idle": "2024-06-02T12:59:19.302509Z",
     "shell.execute_reply": "2024-06-02T12:59:19.30149Z",
     "shell.execute_reply.started": "2024-06-02T12:59:15.434755Z"
    },
    "trusted": true
   },
   "outputs": [],
   "source": [
    "import warnings\n",
    "warnings.filterwarnings(\"ignore\")\n",
    "\n",
    "import pandas as pd\n",
    "import seaborn as sns\n",
    "import matplotlib.pyplot as plt\n",
    "import plotly.express as px\n",
    "import plotly.graph_objects as go"
   ]
  },
  {
   "cell_type": "markdown",
   "metadata": {},
   "source": [
    "<div style=\"background-color:#f0f0f0; padding:20px; border-radius:10px; margin-bottom:20px;\">\n",
    "    <h1 style=\"color:#2E86C1; text-align:center; font-size:36px; font-weight:bold;\">Load the Dataset</h1>\n",
    "    <p style=\"font-size:16px;\"></p>\n",
    "\n",
    "\n",
    "\n"
   ]
  },
  {
   "cell_type": "code",
   "execution_count": 36,
   "metadata": {
    "execution": {
     "iopub.execute_input": "2024-06-02T13:52:52.836809Z",
     "iopub.status.busy": "2024-06-02T13:52:52.836371Z",
     "iopub.status.idle": "2024-06-02T13:52:52.872787Z",
     "shell.execute_reply": "2024-06-02T13:52:52.871525Z",
     "shell.execute_reply.started": "2024-06-02T13:52:52.836777Z"
    },
    "trusted": true
   },
   "outputs": [
    {
     "data": {
      "text/html": [
       "<div>\n",
       "<style scoped>\n",
       "    .dataframe tbody tr th:only-of-type {\n",
       "        vertical-align: middle;\n",
       "    }\n",
       "\n",
       "    .dataframe tbody tr th {\n",
       "        vertical-align: top;\n",
       "    }\n",
       "\n",
       "    .dataframe thead th {\n",
       "        text-align: right;\n",
       "    }\n",
       "</style>\n",
       "<table border=\"1\" class=\"dataframe\">\n",
       "  <thead>\n",
       "    <tr style=\"text-align: right;\">\n",
       "      <th></th>\n",
       "      <th>id</th>\n",
       "      <th>season</th>\n",
       "      <th>city</th>\n",
       "      <th>date</th>\n",
       "      <th>match_type</th>\n",
       "      <th>player_of_match</th>\n",
       "      <th>venue</th>\n",
       "      <th>team1</th>\n",
       "      <th>team2</th>\n",
       "      <th>toss_winner</th>\n",
       "      <th>toss_decision</th>\n",
       "      <th>winner</th>\n",
       "      <th>result</th>\n",
       "      <th>result_margin</th>\n",
       "      <th>target_runs</th>\n",
       "      <th>target_overs</th>\n",
       "      <th>super_over</th>\n",
       "      <th>method</th>\n",
       "      <th>umpire1</th>\n",
       "      <th>umpire2</th>\n",
       "    </tr>\n",
       "  </thead>\n",
       "  <tbody>\n",
       "    <tr>\n",
       "      <th>0</th>\n",
       "      <td>335982</td>\n",
       "      <td>2007/08</td>\n",
       "      <td>Bangalore</td>\n",
       "      <td>2008-04-18</td>\n",
       "      <td>League</td>\n",
       "      <td>BB McCullum</td>\n",
       "      <td>M Chinnaswamy Stadium</td>\n",
       "      <td>Royal Challengers Bangalore</td>\n",
       "      <td>Kolkata Knight Riders</td>\n",
       "      <td>Royal Challengers Bangalore</td>\n",
       "      <td>field</td>\n",
       "      <td>Kolkata Knight Riders</td>\n",
       "      <td>runs</td>\n",
       "      <td>140.0</td>\n",
       "      <td>223.0</td>\n",
       "      <td>20.0</td>\n",
       "      <td>N</td>\n",
       "      <td>NaN</td>\n",
       "      <td>Asad Rauf</td>\n",
       "      <td>RE Koertzen</td>\n",
       "    </tr>\n",
       "    <tr>\n",
       "      <th>1</th>\n",
       "      <td>335983</td>\n",
       "      <td>2007/08</td>\n",
       "      <td>Chandigarh</td>\n",
       "      <td>2008-04-19</td>\n",
       "      <td>League</td>\n",
       "      <td>MEK Hussey</td>\n",
       "      <td>Punjab Cricket Association Stadium, Mohali</td>\n",
       "      <td>Kings XI Punjab</td>\n",
       "      <td>Chennai Super Kings</td>\n",
       "      <td>Chennai Super Kings</td>\n",
       "      <td>bat</td>\n",
       "      <td>Chennai Super Kings</td>\n",
       "      <td>runs</td>\n",
       "      <td>33.0</td>\n",
       "      <td>241.0</td>\n",
       "      <td>20.0</td>\n",
       "      <td>N</td>\n",
       "      <td>NaN</td>\n",
       "      <td>MR Benson</td>\n",
       "      <td>SL Shastri</td>\n",
       "    </tr>\n",
       "    <tr>\n",
       "      <th>2</th>\n",
       "      <td>335984</td>\n",
       "      <td>2007/08</td>\n",
       "      <td>Delhi</td>\n",
       "      <td>2008-04-19</td>\n",
       "      <td>League</td>\n",
       "      <td>MF Maharoof</td>\n",
       "      <td>Feroz Shah Kotla</td>\n",
       "      <td>Delhi Daredevils</td>\n",
       "      <td>Rajasthan Royals</td>\n",
       "      <td>Rajasthan Royals</td>\n",
       "      <td>bat</td>\n",
       "      <td>Delhi Daredevils</td>\n",
       "      <td>wickets</td>\n",
       "      <td>9.0</td>\n",
       "      <td>130.0</td>\n",
       "      <td>20.0</td>\n",
       "      <td>N</td>\n",
       "      <td>NaN</td>\n",
       "      <td>Aleem Dar</td>\n",
       "      <td>GA Pratapkumar</td>\n",
       "    </tr>\n",
       "    <tr>\n",
       "      <th>3</th>\n",
       "      <td>335985</td>\n",
       "      <td>2007/08</td>\n",
       "      <td>Mumbai</td>\n",
       "      <td>2008-04-20</td>\n",
       "      <td>League</td>\n",
       "      <td>MV Boucher</td>\n",
       "      <td>Wankhede Stadium</td>\n",
       "      <td>Mumbai Indians</td>\n",
       "      <td>Royal Challengers Bangalore</td>\n",
       "      <td>Mumbai Indians</td>\n",
       "      <td>bat</td>\n",
       "      <td>Royal Challengers Bangalore</td>\n",
       "      <td>wickets</td>\n",
       "      <td>5.0</td>\n",
       "      <td>166.0</td>\n",
       "      <td>20.0</td>\n",
       "      <td>N</td>\n",
       "      <td>NaN</td>\n",
       "      <td>SJ Davis</td>\n",
       "      <td>DJ Harper</td>\n",
       "    </tr>\n",
       "    <tr>\n",
       "      <th>4</th>\n",
       "      <td>335986</td>\n",
       "      <td>2007/08</td>\n",
       "      <td>Kolkata</td>\n",
       "      <td>2008-04-20</td>\n",
       "      <td>League</td>\n",
       "      <td>DJ Hussey</td>\n",
       "      <td>Eden Gardens</td>\n",
       "      <td>Kolkata Knight Riders</td>\n",
       "      <td>Deccan Chargers</td>\n",
       "      <td>Deccan Chargers</td>\n",
       "      <td>bat</td>\n",
       "      <td>Kolkata Knight Riders</td>\n",
       "      <td>wickets</td>\n",
       "      <td>5.0</td>\n",
       "      <td>111.0</td>\n",
       "      <td>20.0</td>\n",
       "      <td>N</td>\n",
       "      <td>NaN</td>\n",
       "      <td>BF Bowden</td>\n",
       "      <td>K Hariharan</td>\n",
       "    </tr>\n",
       "  </tbody>\n",
       "</table>\n",
       "</div>"
      ],
      "text/plain": [
       "       id   season        city        date match_type player_of_match  \\\n",
       "0  335982  2007/08   Bangalore  2008-04-18     League     BB McCullum   \n",
       "1  335983  2007/08  Chandigarh  2008-04-19     League      MEK Hussey   \n",
       "2  335984  2007/08       Delhi  2008-04-19     League     MF Maharoof   \n",
       "3  335985  2007/08      Mumbai  2008-04-20     League      MV Boucher   \n",
       "4  335986  2007/08     Kolkata  2008-04-20     League       DJ Hussey   \n",
       "\n",
       "                                        venue                        team1  \\\n",
       "0                       M Chinnaswamy Stadium  Royal Challengers Bangalore   \n",
       "1  Punjab Cricket Association Stadium, Mohali              Kings XI Punjab   \n",
       "2                            Feroz Shah Kotla             Delhi Daredevils   \n",
       "3                            Wankhede Stadium               Mumbai Indians   \n",
       "4                                Eden Gardens        Kolkata Knight Riders   \n",
       "\n",
       "                         team2                  toss_winner toss_decision  \\\n",
       "0        Kolkata Knight Riders  Royal Challengers Bangalore         field   \n",
       "1          Chennai Super Kings          Chennai Super Kings           bat   \n",
       "2             Rajasthan Royals             Rajasthan Royals           bat   \n",
       "3  Royal Challengers Bangalore               Mumbai Indians           bat   \n",
       "4              Deccan Chargers              Deccan Chargers           bat   \n",
       "\n",
       "                        winner   result  result_margin  target_runs  \\\n",
       "0        Kolkata Knight Riders     runs          140.0        223.0   \n",
       "1          Chennai Super Kings     runs           33.0        241.0   \n",
       "2             Delhi Daredevils  wickets            9.0        130.0   \n",
       "3  Royal Challengers Bangalore  wickets            5.0        166.0   \n",
       "4        Kolkata Knight Riders  wickets            5.0        111.0   \n",
       "\n",
       "   target_overs super_over method    umpire1         umpire2  \n",
       "0          20.0          N    NaN  Asad Rauf     RE Koertzen  \n",
       "1          20.0          N    NaN  MR Benson      SL Shastri  \n",
       "2          20.0          N    NaN  Aleem Dar  GA Pratapkumar  \n",
       "3          20.0          N    NaN   SJ Davis       DJ Harper  \n",
       "4          20.0          N    NaN  BF Bowden     K Hariharan  "
      ]
     },
     "execution_count": 36,
     "metadata": {},
     "output_type": "execute_result"
    }
   ],
   "source": [
    "data = pd.read_csv(\"../Data/ipl_dataset.csv\")\n",
    "data.head()"
   ]
  },
  {
   "cell_type": "code",
   "execution_count": null,
   "metadata": {
    "execution": {
     "iopub.execute_input": "2024-06-02T03:59:54.502503Z",
     "iopub.status.busy": "2024-06-02T03:59:54.502116Z",
     "iopub.status.idle": "2024-06-02T03:59:54.528813Z",
     "shell.execute_reply": "2024-06-02T03:59:54.527462Z",
     "shell.execute_reply.started": "2024-06-02T03:59:54.502473Z"
    },
    "trusted": true
   },
   "outputs": [],
   "source": [
    "data.info()"
   ]
  },
  {
   "cell_type": "markdown",
   "metadata": {},
   "source": [
    "## **Observation   :** \n",
    "\n",
    "Most of the columns are ccategorical (They are obeject in dtype) and only three ccolumns are numerical (float in dtype) and are also missing values in some columns. So I\"ll see them in Data preprocessing."
   ]
  },
  {
   "cell_type": "markdown",
   "metadata": {},
   "source": [
    "<div style=\"background-color:#f0f0f0; padding:20px; border-radius:10px; margin-bottom:20px;\">\n",
    "    <h1 style=\"color:#2E86C1; text-align:center; font-size:36px; font-weight:bold;\">Preprocess the Data</h1>\n",
    "    <p style=\"font-size:16px;\"></p>"
   ]
  },
  {
   "cell_type": "code",
   "execution_count": null,
   "metadata": {
    "execution": {
     "iopub.execute_input": "2024-06-01T16:53:25.381099Z",
     "iopub.status.busy": "2024-06-01T16:53:25.380733Z",
     "iopub.status.idle": "2024-06-01T16:53:25.38873Z",
     "shell.execute_reply": "2024-06-01T16:53:25.387799Z",
     "shell.execute_reply.started": "2024-06-01T16:53:25.381073Z"
    },
    "trusted": true
   },
   "outputs": [],
   "source": [
    "# Missing values\n",
    "print(data.isnull().sum())"
   ]
  },
  {
   "cell_type": "code",
   "execution_count": null,
   "metadata": {
    "execution": {
     "iopub.execute_input": "2024-06-01T17:39:44.181832Z",
     "iopub.status.busy": "2024-06-01T17:39:44.181436Z",
     "iopub.status.idle": "2024-06-01T17:39:44.192429Z",
     "shell.execute_reply": "2024-06-01T17:39:44.191349Z",
     "shell.execute_reply.started": "2024-06-01T17:39:44.181802Z"
    },
    "trusted": true
   },
   "outputs": [],
   "source": [
    "# Duplicates\n",
    "print(data.duplicated().sum())"
   ]
  },
  {
   "cell_type": "code",
   "execution_count": 37,
   "metadata": {
    "execution": {
     "iopub.execute_input": "2024-06-01T17:39:46.325896Z",
     "iopub.status.busy": "2024-06-01T17:39:46.325496Z",
     "iopub.status.idle": "2024-06-01T17:39:46.346675Z",
     "shell.execute_reply": "2024-06-01T17:39:46.345768Z",
     "shell.execute_reply.started": "2024-06-01T17:39:46.325858Z"
    },
    "trusted": true
   },
   "outputs": [],
   "source": [
    "# Handling missing values (example: fill with mode)\n",
    "for col in data.select_dtypes(include='object').columns:\n",
    "    data[col].fillna(data[col].mode()[0], inplace=True)\n",
    "\n",
    "for col in data.select_dtypes(include='float').columns:\n",
    "    data[col].fillna(data[col].mean(), inplace=True)\n",
    "\n",
    "# Remove duplicates\n",
    "data.drop_duplicates(inplace=True)"
   ]
  },
  {
   "cell_type": "code",
   "execution_count": null,
   "metadata": {
    "execution": {
     "iopub.execute_input": "2024-06-01T17:39:51.810708Z",
     "iopub.status.busy": "2024-06-01T17:39:51.810359Z",
     "iopub.status.idle": "2024-06-01T17:39:51.81767Z",
     "shell.execute_reply": "2024-06-01T17:39:51.816649Z",
     "shell.execute_reply.started": "2024-06-01T17:39:51.810683Z"
    },
    "trusted": true
   },
   "outputs": [],
   "source": [
    "# Drop the method column bcz it has two many missing values\n",
    "data = data.drop(\"method\" , axis=1)"
   ]
  },
  {
   "cell_type": "code",
   "execution_count": null,
   "metadata": {
    "execution": {
     "iopub.execute_input": "2024-06-01T17:39:56.328724Z",
     "iopub.status.busy": "2024-06-01T17:39:56.32777Z",
     "iopub.status.idle": "2024-06-01T17:39:56.337338Z",
     "shell.execute_reply": "2024-06-01T17:39:56.33636Z",
     "shell.execute_reply.started": "2024-06-01T17:39:56.32869Z"
    },
    "trusted": true
   },
   "outputs": [],
   "source": [
    "data.isnull().sum()"
   ]
  },
  {
   "cell_type": "markdown",
   "metadata": {},
   "source": [
    "<div style=\"background-color:#f0f0f0; padding:20px; border-radius:10px; margin-bottom:20px;\">\n",
    "    <h1 style=\"color:#2E86C1; text-align:center; font-size:36px; font-weight:bold;\">Complete EDA with Visualization </h1>\n",
    "    <p style=\"font-size:16px;\"></p>"
   ]
  },
  {
   "cell_type": "code",
   "execution_count": null,
   "metadata": {
    "execution": {
     "iopub.execute_input": "2024-06-02T04:11:07.091915Z",
     "iopub.status.busy": "2024-06-02T04:11:07.091157Z",
     "iopub.status.idle": "2024-06-02T04:11:07.100084Z",
     "shell.execute_reply": "2024-06-02T04:11:07.098788Z",
     "shell.execute_reply.started": "2024-06-02T04:11:07.091877Z"
    },
    "trusted": true
   },
   "outputs": [],
   "source": [
    "# Get the value counts of the 'player_of_match' column\n",
    "player_of_match_counts = data['player_of_match'].value_counts()\n",
    "\n",
    "# Filter players who have won more than 10 times\n",
    "players_with_more_than_10_awards = player_of_match_counts[player_of_match_counts >=10]\n",
    "\n",
    "# Display the filtered players\n",
    "print(players_with_more_than_10_awards)\n"
   ]
  },
  {
   "cell_type": "code",
   "execution_count": null,
   "metadata": {
    "execution": {
     "iopub.execute_input": "2024-06-02T04:11:11.190911Z",
     "iopub.status.busy": "2024-06-02T04:11:11.190547Z",
     "iopub.status.idle": "2024-06-02T04:11:11.714217Z",
     "shell.execute_reply": "2024-06-02T04:11:11.713142Z",
     "shell.execute_reply.started": "2024-06-02T04:11:11.190884Z"
    },
    "trusted": true
   },
   "outputs": [],
   "source": [
    "# Create a bar plot for the players with more than 10 awards\n",
    "# plt.figure(figsize=(15, 8))\n",
    "sns.barplot(x=players_with_more_than_10_awards.index, y=players_with_more_than_10_awards.values)\n",
    "plt.title('Players with 10 or More Player of the Match Awards')\n",
    "plt.xlabel('Player')\n",
    "plt.ylabel('Number of Awards')\n",
    "plt.xticks(rotation=90)  # Rotate x-axis labels for better readability\n",
    "plt.tight_layout()\n",
    "plt.show()"
   ]
  },
  {
   "cell_type": "markdown",
   "metadata": {},
   "source": [
    "### **Observation** \n",
    "\n",
    "> I've shortly list the the playrs that achieve / earn the player of the match (POT) more than and equal to 10 time times . It can be seen that AB de villiers earn 25 times in the history of IPL. Secoond one is Chris Gayle who earn 22 times and so on. Here below it's visualizations."
   ]
  },
  {
   "cell_type": "code",
   "execution_count": null,
   "metadata": {
    "execution": {
     "iopub.execute_input": "2024-06-01T16:53:48.887119Z",
     "iopub.status.busy": "2024-06-01T16:53:48.886759Z",
     "iopub.status.idle": "2024-06-01T16:53:48.900075Z",
     "shell.execute_reply": "2024-06-01T16:53:48.898829Z",
     "shell.execute_reply.started": "2024-06-01T16:53:48.887091Z"
    },
    "trusted": true
   },
   "outputs": [],
   "source": [
    "data.groupby([ 'winner' , 'match_type']).size()"
   ]
  },
  {
   "cell_type": "markdown",
   "metadata": {},
   "source": [
    "## **Observation** \n",
    "\n",
    "> Here i groupby the winner and match type. Actually we see that which team won the most matches based on match type. The Chennai Super King and Mumbai Indians won the 5 trophies (5 Finals), Deccan Chargers ,Gujrat titans, Rajhastan Royals and Sunrisers hydrabad won the final only one time . And Kolkata Knight Riders won thw final two times"
   ]
  },
  {
   "cell_type": "code",
   "execution_count": null,
   "metadata": {
    "execution": {
     "iopub.execute_input": "2024-06-01T16:53:54.309615Z",
     "iopub.status.busy": "2024-06-01T16:53:54.309225Z",
     "iopub.status.idle": "2024-06-01T16:53:55.944476Z",
     "shell.execute_reply": "2024-06-01T16:53:55.94336Z",
     "shell.execute_reply.started": "2024-06-01T16:53:54.309586Z"
    },
    "trusted": true
   },
   "outputs": [],
   "source": [
    "import matplotlib.pyplot as plt\n",
    "import seaborn as sns\n",
    "\n",
    "# Heatmap\n",
    "sns.heatmap(pd.crosstab(data['season'], data['winner']), annot=True, fmt='d', cmap='YlGnBu')\n",
    "plt.title('Heatmap of Season vs Winner')\n",
    "plt.show()\n"
   ]
  },
  {
   "cell_type": "markdown",
   "metadata": {},
   "source": [
    "## **Observation** \n",
    "\n",
    "> ThrouThrough Upper Heatmap between Season vs Winner. We actually see that the teams that won the matches in a single season. most of the teams are added in the late so they never play and won a single match in the early seasons. \n",
    "\n",
    "> Delhi Daredevils converted into Delhi Capitals in 2017. Decaan chargers remove out from IPL due to financial problems\n",
    "\n",
    "> Gujrat lions played two seasons in 2016 ,17 and thwn coverted into Gujrat titans\n",
    "\n",
    "> Pune warriors played only in  2011 , 12 and 13 and the converted into rising pyre supergiants in 2017, played two seasons and then removed out from IPL due to financial problems\n",
    "\n",
    "> sunriser hydrabad , chennai , mumbai indians , kolkata riders and royal benglore played almost all seasons\n"
   ]
  },
  {
   "cell_type": "code",
   "execution_count": null,
   "metadata": {
    "execution": {
     "iopub.execute_input": "2024-06-02T04:17:53.114923Z",
     "iopub.status.busy": "2024-06-02T04:17:53.114538Z",
     "iopub.status.idle": "2024-06-02T04:17:53.130246Z",
     "shell.execute_reply": "2024-06-02T04:17:53.128985Z",
     "shell.execute_reply.started": "2024-06-02T04:17:53.114896Z"
    },
    "trusted": true
   },
   "outputs": [],
   "source": [
    "data.groupby([ 'toss_winner' , 'toss_decision']).size()"
   ]
  },
  {
   "cell_type": "code",
   "execution_count": null,
   "metadata": {
    "execution": {
     "iopub.execute_input": "2024-06-02T04:17:57.066848Z",
     "iopub.status.busy": "2024-06-02T04:17:57.066445Z",
     "iopub.status.idle": "2024-06-02T04:17:57.597699Z",
     "shell.execute_reply": "2024-06-02T04:17:57.596604Z",
     "shell.execute_reply.started": "2024-06-02T04:17:57.066817Z"
    },
    "trusted": true
   },
   "outputs": [],
   "source": [
    "import pandas as pd\n",
    "import seaborn as sns\n",
    "import matplotlib.pyplot as plt\n",
    "\n",
    "# Create the count plot\n",
    "plt.figure(figsize=(15, 8))\n",
    "sns.countplot(x='toss_winner', hue='toss_decision', data=data)\n",
    "plt.title('Toss Decisions by Teams')\n",
    "plt.xlabel('Toss Winner')\n",
    "plt.ylabel('Count')\n",
    "plt.xticks(rotation=90)  # Rotate x-axis labels for better readability\n",
    "plt.legend(title='Toss Decision')\n",
    "plt.show()"
   ]
  },
  {
   "cell_type": "markdown",
   "metadata": {},
   "source": [
    "## **Observation**\n",
    "\n",
    "> Through visualizationand and groupby , we see that most of times, teams choose field first after wiining the toss.it's easy for the second team to chase . because they get advantage of due in late night also and they easiy chase . they also took bat first beacuse of batting pitches in the india.\n",
    "\n",
    "> But if we see, Cheenei super kings don't see teh toss decision . Toss doesn't matter for them. therfor they become the champions 5 times "
   ]
  },
  {
   "cell_type": "code",
   "execution_count": null,
   "metadata": {
    "execution": {
     "iopub.execute_input": "2024-06-02T05:24:55.624634Z",
     "iopub.status.busy": "2024-06-02T05:24:55.623513Z",
     "iopub.status.idle": "2024-06-02T05:24:55.686263Z",
     "shell.execute_reply": "2024-06-02T05:24:55.685085Z",
     "shell.execute_reply.started": "2024-06-02T05:24:55.624586Z"
    },
    "trusted": true
   },
   "outputs": [],
   "source": [
    "fig = px.box(data, x=\"season\", y=\"target_runs\", points=\"all\")\n",
    "fig.show()"
   ]
  },
  {
   "cell_type": "markdown",
   "metadata": {},
   "source": [
    "## **Observation**\n",
    "\n",
    "> The uupper plot looks great to see the target score that are given in each season by the team . The minimum runs are given in the history of IPL are 43 (in 2014) and the maximum target given is 264 (2013)\n",
    "\n",
    "> but if we see the 2024 season . the sunrisers hydrabad give 288 runs target . which is huge in the history of ipl"
   ]
  },
  {
   "cell_type": "code",
   "execution_count": null,
   "metadata": {
    "execution": {
     "iopub.execute_input": "2024-06-02T05:01:11.935539Z",
     "iopub.status.busy": "2024-06-02T05:01:11.935166Z",
     "iopub.status.idle": "2024-06-02T05:01:11.945133Z",
     "shell.execute_reply": "2024-06-02T05:01:11.944119Z",
     "shell.execute_reply.started": "2024-06-02T05:01:11.935513Z"
    },
    "trusted": true
   },
   "outputs": [],
   "source": [
    "data['city'].value_counts()"
   ]
  },
  {
   "cell_type": "code",
   "execution_count": null,
   "metadata": {
    "execution": {
     "iopub.execute_input": "2024-06-01T18:47:17.15978Z",
     "iopub.status.busy": "2024-06-01T18:47:17.159204Z",
     "iopub.status.idle": "2024-06-01T18:47:17.812174Z",
     "shell.execute_reply": "2024-06-01T18:47:17.810904Z",
     "shell.execute_reply.started": "2024-06-01T18:47:17.159739Z"
    },
    "trusted": true
   },
   "outputs": [],
   "source": [
    "# Create a bar plot for the 'city' column\n",
    "plt.figure(figsize=(15, 8))  # Adjust the size as needed\n",
    "sns.countplot(x='city', data=data)\n",
    "plt.title('Frequency Distribution of Matches by City')\n",
    "plt.xlabel('City')\n",
    "plt.ylabel('Count')\n",
    "plt.xticks(rotation=90)  # Rotate x-axis labels for better readability\n",
    "plt.tight_layout()\n",
    "plt.show()"
   ]
  },
  {
   "cell_type": "markdown",
   "metadata": {},
   "source": [
    "## **Observation**\n",
    "\n",
    "> The majority of IPL matches have been played in major Indian cities, with Mumbai hosting the most (166 matches), followed by Kolkata (86), Delhi (85), and Chennai (76). Other cities like Hyderabad, Bangalore, and Chandigarh also hosted a significant number of matches. Some matches have been played in international locations such as Abu Dhabi, Durban, and Dubai. Overall, Mumbai stands out as the primary venue for IPL matches."
   ]
  },
  {
   "cell_type": "code",
   "execution_count": null,
   "metadata": {
    "execution": {
     "iopub.execute_input": "2024-06-02T05:04:33.125723Z",
     "iopub.status.busy": "2024-06-02T05:04:33.124673Z",
     "iopub.status.idle": "2024-06-02T05:04:33.134317Z",
     "shell.execute_reply": "2024-06-02T05:04:33.133163Z",
     "shell.execute_reply.started": "2024-06-02T05:04:33.125685Z"
    },
    "trusted": true
   },
   "outputs": [],
   "source": [
    "data['toss_decision'].value_counts()"
   ]
  },
  {
   "cell_type": "code",
   "execution_count": null,
   "metadata": {},
   "outputs": [],
   "source": [
    "lab = ['field' , 'bat']\n",
    "val = [652 , 372]\n",
    "fig1 = go.Figure(data=[go.Pie(labels=lab, values=val, pull=[0, 0.3, 0, 0])])\n",
    "fig1.show()"
   ]
  },
  {
   "cell_type": "code",
   "execution_count": null,
   "metadata": {
    "execution": {
     "iopub.execute_input": "2024-06-01T18:50:06.086669Z",
     "iopub.status.busy": "2024-06-01T18:50:06.085676Z",
     "iopub.status.idle": "2024-06-01T18:50:06.436954Z",
     "shell.execute_reply": "2024-06-01T18:50:06.435334Z",
     "shell.execute_reply.started": "2024-06-01T18:50:06.086618Z"
    },
    "trusted": true
   },
   "outputs": [],
   "source": [
    "plt.figure(figsize=(15, 8))\n",
    "sns.countplot(x='toss_decision', data=data)\n",
    "plt.title('Frequency Distribution of Toss Decisions')\n",
    "plt.xlabel('Toss Decision')\n",
    "plt.ylabel('Count')\n",
    "plt.xticks(rotation=90)\n",
    "plt.tight_layout()\n",
    "plt.show()\n"
   ]
  },
  {
   "cell_type": "markdown",
   "metadata": {},
   "source": [
    "## **Observation**\n",
    "> Teams winning the toss in IPL matches have preferred to field first more often (652 times) than to bat first (372 times)."
   ]
  },
  {
   "cell_type": "code",
   "execution_count": null,
   "metadata": {
    "execution": {
     "iopub.execute_input": "2024-06-02T05:07:05.705455Z",
     "iopub.status.busy": "2024-06-02T05:07:05.705063Z",
     "iopub.status.idle": "2024-06-02T05:07:05.715087Z",
     "shell.execute_reply": "2024-06-02T05:07:05.713882Z",
     "shell.execute_reply.started": "2024-06-02T05:07:05.705427Z"
    },
    "trusted": true
   },
   "outputs": [],
   "source": [
    "data['winner'].value_counts()"
   ]
  },
  {
   "cell_type": "code",
   "execution_count": null,
   "metadata": {
    "execution": {
     "iopub.execute_input": "2024-06-01T18:50:39.038517Z",
     "iopub.status.busy": "2024-06-01T18:50:39.038022Z",
     "iopub.status.idle": "2024-06-01T18:50:39.571898Z",
     "shell.execute_reply": "2024-06-01T18:50:39.570644Z",
     "shell.execute_reply.started": "2024-06-01T18:50:39.038482Z"
    },
    "trusted": true
   },
   "outputs": [],
   "source": [
    "plt.figure(figsize=(15, 8))\n",
    "sns.countplot(x='winner', data=data)\n",
    "plt.title('Frequency Distribution of Match Winners')\n",
    "plt.xlabel('Winner')\n",
    "plt.ylabel('Count')\n",
    "plt.xticks(rotation=90)\n",
    "plt.tight_layout()\n",
    "plt.show()\n"
   ]
  },
  {
   "cell_type": "markdown",
   "metadata": {},
   "source": [
    "## **Observation**\n",
    "\n",
    "> Mumbai Indians have won the most IPL matches (140), followed by Chennai Super Kings (131) and Kolkata Knight Riders (120). Teams like Royal Challengers Bangalore and Rajasthan Royals also have a significant number of wins. Some teams have undergone name changes or rebranding, such as Delhi Daredevils becoming Delhi Capitals, and Kings XI Punjab becoming Punjab Kings. Newer teams like Gujarat Titans and Lucknow Super Giants have relatively fewer wins. Defunct teams like Deccan Chargers, Pune Warriors, and Kochi Tuskers Kerala have lower win counts due to their shorter participation in the IPL."
   ]
  },
  {
   "cell_type": "code",
   "execution_count": null,
   "metadata": {
    "execution": {
     "iopub.execute_input": "2024-06-02T05:09:28.406964Z",
     "iopub.status.busy": "2024-06-02T05:09:28.406574Z",
     "iopub.status.idle": "2024-06-02T05:09:28.415879Z",
     "shell.execute_reply": "2024-06-02T05:09:28.414755Z",
     "shell.execute_reply.started": "2024-06-02T05:09:28.406933Z"
    },
    "trusted": true
   },
   "outputs": [],
   "source": [
    "data['result'].value_counts()"
   ]
  },
  {
   "cell_type": "code",
   "execution_count": null,
   "metadata": {},
   "outputs": [],
   "source": [
    "labels = ['wickets','runs','tie','no result']\n",
    "values = [542, 463, 14, 5]\n",
    "\n",
    "# pull is given as a fraction of the pie radius\n",
    "fig = go.Figure(data=[go.Pie(labels=labels, values=values, pull=[0, 0, 0.6, 0])])\n",
    "fig.show()"
   ]
  },
  {
   "cell_type": "code",
   "execution_count": null,
   "metadata": {
    "execution": {
     "iopub.execute_input": "2024-06-01T18:51:07.096488Z",
     "iopub.status.busy": "2024-06-01T18:51:07.095945Z",
     "iopub.status.idle": "2024-06-01T18:51:07.433325Z",
     "shell.execute_reply": "2024-06-01T18:51:07.432112Z",
     "shell.execute_reply.started": "2024-06-01T18:51:07.096446Z"
    },
    "trusted": true
   },
   "outputs": [],
   "source": [
    "plt.figure(figsize=(15, 8))\n",
    "sns.countplot(x='result', data=data)\n",
    "plt.title('Frequency Distribution of Match Results')\n",
    "plt.xlabel('Result')\n",
    "plt.ylabel('Count')\n",
    "plt.xticks(rotation=90)\n",
    "plt.tight_layout()\n",
    "plt.show()\n"
   ]
  },
  {
   "cell_type": "markdown",
   "metadata": {},
   "source": [
    "## **Observation**\n",
    "\n",
    "> Most IPL matches have been decided by wickets (542 times) or runs (463 times), indicating a clear winner in the majority of games. Tied matches are rare, occurring only 14 times, and there have been very few matches with no result (5 times)."
   ]
  },
  {
   "cell_type": "code",
   "execution_count": null,
   "metadata": {
    "execution": {
     "iopub.execute_input": "2024-06-02T05:11:28.246759Z",
     "iopub.status.busy": "2024-06-02T05:11:28.246383Z",
     "iopub.status.idle": "2024-06-02T05:11:28.255991Z",
     "shell.execute_reply": "2024-06-02T05:11:28.254774Z",
     "shell.execute_reply.started": "2024-06-02T05:11:28.246731Z"
    },
    "trusted": true
   },
   "outputs": [],
   "source": [
    "data['super_over'].value_counts()"
   ]
  },
  {
   "cell_type": "code",
   "execution_count": null,
   "metadata": {},
   "outputs": [],
   "source": [
    "labs = ['N' , 'Y']\n",
    "vals = [1010 , 14]\n",
    "fig1 = go.Figure(data=[go.Pie(labels=labs, values=vals, pull=[0, 0.3, 0, 0])])\n",
    "fig1.show()"
   ]
  },
  {
   "cell_type": "code",
   "execution_count": null,
   "metadata": {
    "execution": {
     "iopub.execute_input": "2024-06-01T18:51:24.736215Z",
     "iopub.status.busy": "2024-06-01T18:51:24.73576Z",
     "iopub.status.idle": "2024-06-01T18:51:25.064294Z",
     "shell.execute_reply": "2024-06-01T18:51:25.063016Z",
     "shell.execute_reply.started": "2024-06-01T18:51:24.736182Z"
    },
    "trusted": true
   },
   "outputs": [],
   "source": [
    "plt.figure(figsize=(15, 8))\n",
    "sns.countplot(x='super_over', data=data)\n",
    "plt.title('Frequency Distribution of Super Overs')\n",
    "plt.xlabel('Super Over')\n",
    "plt.ylabel('Count')\n",
    "plt.xticks(rotation=90)\n",
    "plt.tight_layout()\n",
    "plt.show()\n"
   ]
  },
  {
   "cell_type": "markdown",
   "metadata": {},
   "source": [
    "## **Observation**\n",
    "\n",
    "> Super Overs are very rare in IPL matches, occurring only 14 times, while the vast majority of matches (1010) did not require a Super Over to determine the winner."
   ]
  },
  {
   "cell_type": "code",
   "execution_count": null,
   "metadata": {
    "execution": {
     "iopub.execute_input": "2024-06-01T18:52:59.205453Z",
     "iopub.status.busy": "2024-06-01T18:52:59.204995Z",
     "iopub.status.idle": "2024-06-01T18:52:59.218131Z",
     "shell.execute_reply": "2024-06-01T18:52:59.216981Z",
     "shell.execute_reply.started": "2024-06-01T18:52:59.205417Z"
    },
    "trusted": true
   },
   "outputs": [],
   "source": [
    "data['umpire1'].value_counts()"
   ]
  },
  {
   "cell_type": "code",
   "execution_count": null,
   "metadata": {
    "execution": {
     "iopub.execute_input": "2024-06-01T18:51:41.127213Z",
     "iopub.status.busy": "2024-06-01T18:51:41.125777Z",
     "iopub.status.idle": "2024-06-01T18:51:41.986578Z",
     "shell.execute_reply": "2024-06-01T18:51:41.985165Z",
     "shell.execute_reply.started": "2024-06-01T18:51:41.127158Z"
    },
    "trusted": true
   },
   "outputs": [],
   "source": [
    "plt.figure(figsize=(15, 8))\n",
    "sns.countplot(x='umpire1', data=data)\n",
    "plt.title('Frequency Distribution of First Umpires')\n",
    "plt.xlabel('Umpire1')\n",
    "plt.ylabel('Count')\n",
    "plt.xticks(rotation=90)\n",
    "plt.tight_layout()\n",
    "plt.show()\n"
   ]
  },
  {
   "cell_type": "markdown",
   "metadata": {},
   "source": [
    "## **Observation**\n",
    "\n",
    "> The umpire who has officiated the most IPL matches as the first umpire is AK Chaudhary, with 105 matches. Other frequently officiating umpires include HDPK Dharmasena (76 matches), KN Ananthapadmanabhan (53 matches), CB Gaffaney (53 matches), and Asad Rauf (51 matches). This indicates a mix of both Indian and international umpires playing significant roles in the league. The distribution suggests that a core group of umpires consistently officiates IPL matches, with many others contributing less frequently."
   ]
  },
  {
   "cell_type": "markdown",
   "metadata": {},
   "source": [
    "<div style=\"background-color:#f0f0f0; padding:20px; border-radius:10px; margin-bottom:20px;\">\n",
    "    <h1 style=\"color:#2E86C1; text-align:center; font-size:36px; font-weight:bold;\">Thank you very much</h1>\n",
    "    <p style=\"font-size:16px;\"></p>"
   ]
  }
 ],
 "metadata": {
  "kaggle": {
   "accelerator": "none",
   "dataSources": [
    {
     "datasetId": 5135115,
     "sourceId": 8585669,
     "sourceType": "datasetVersion"
    },
    {
     "datasetId": 990900,
     "sourceId": 8637500,
     "sourceType": "datasetVersion"
    }
   ],
   "dockerImageVersionId": 30715,
   "isGpuEnabled": false,
   "isInternetEnabled": true,
   "language": "python",
   "sourceType": "notebook"
  },
  "kernelspec": {
   "display_name": "Python 3",
   "language": "python",
   "name": "python3"
  },
  "language_info": {
   "codemirror_mode": {
    "name": "ipython",
    "version": 3
   },
   "file_extension": ".py",
   "mimetype": "text/x-python",
   "name": "python",
   "nbconvert_exporter": "python",
   "pygments_lexer": "ipython3",
   "version": "3.10.13"
  }
 },
 "nbformat": 4,
 "nbformat_minor": 4
}
